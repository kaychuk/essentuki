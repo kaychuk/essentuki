import pandas as pd
import geopandas as gpd
import folium
from shapely import geometry
from pyproj import Transformer
from folium.plugins import MarkerCluster, MousePosition, Fullscreen, MiniMap, Search

# Пути к файлам
boundary_path = '/Users/kseniagarmanchuk/essentuki/boundary_es.geojson'
buildings_path = '/Users/kseniagarmanchuk/essentuki/buildings_es.geojson'
okn_ply_path = '/Users/kseniagarmanchuk/essentuki/tourism_ply.geojson'
okn_pts_path = '/Users/kseniagarmanchuk/essentuki/tourism_es.geojson'

# Загрузка и преобразование CRS
area = gpd.read_file(boundary_path).to_crs("EPSG:32637")
buildings = gpd.read_file(buildings_path).to_crs("EPSG:32637")
okn_for_ply = gpd.read_file(okn_ply_path).to_crs("EPSG:32637")
okn_for_pts = gpd.read_file(okn_pts_path).to_crs("EPSG:32637")

# Обрезка по границе
area = area.explode(index_parts=False)
okn_for_ply = gpd.clip(okn_for_ply, area)
okn_for_pts = gpd.clip(okn_for_pts, area)
buildings = gpd.clip(buildings, area)

# Очистка ненужных столбцов
cols_to_drop = ['fid', 'full_id', 'osm_type']
buildings = buildings.drop(columns=[c for c in cols_to_drop if c in buildings.columns], errors='ignore')

# Пространственное объединение
buildings = buildings.sjoin(okn_for_ply, how="left")

# Фильтрация зданий с ОКН
okn_buildings = buildings[buildings['id_right'].notna()]
okn_buildings = okn_buildings.drop(columns=[c for c in ['index_right', 'id_left', 'id_right'] if c in okn_buildings.columns], errors='ignore')

# Центроиды
okn_buildings['X'] = okn_buildings.geometry.centroid.x
okn_buildings['Y'] = okn_buildings.geometry.centroid.y

# Построение сетки
minX, minY, maxX, maxY = area.total_bounds
square_size = 300
geom_array = []
x, y = minX, minY
while y <= maxY:
    while x <= maxX:
        geom_array.append(geometry.Polygon([
            (x, y), (x, y + square_size),
            (x + square_size, y + square_size),
            (x + square_size, y), (x, y)
        ]))
        x += square_size
    x = minX
    y += square_size

# Создание сетки и обрезка по границе города
square_net_raw = gpd.GeoDataFrame(geometry=geom_array, crs="EPSG:32637")
square_net_raw['id'] = square_net_raw.index
square_net = gpd.overlay(square_net_raw, area, how='intersection')
square_net['id'] = square_net.index

# Подсчёт количества ОКН в ячейках
merged = gpd.sjoin(okn_for_ply, square_net, how='left', predicate='within')
merged['n'] = 1
dissolve = merged.dissolve(by="index_right", aggfunc="count")
square_net['n'] = 0
square_net.loc[dissolve.index, 'n'] = dissolve.n.values

# Переводим datetime колонки в строки (если есть)
for col in square_net.columns:
    if pd.api.types.is_datetime64_any_dtype(square_net[col]):
        square_net[col] = square_net[col].astype(str)

# Центр карты
center_x = okn_for_ply.geometry.centroid.x.mean()
center_y = okn_for_ply.geometry.centroid.y.mean()
transformer = Transformer.from_crs("EPSG:32637", "EPSG:4326", always_xy=True)
lon, lat = transformer.transform(center_x, center_y)

# Создание карты
m = folium.Map(location=[lat, lon], zoom_start=13, tiles="cartodb positron", control_scale=True)

# Преобразование сетки в EPSG:4326 для folium
square_net_4326 = square_net.to_crs("EPSG:4326")

# Конвертируем datetime в строки (повторно на всякий случай)
for col in square_net_4326.columns:
    if pd.api.types.is_datetime64_any_dtype(square_net_4326[col]):
        square_net_4326[col] = square_net_4326[col].astype(str)

# GeoJSON для folium
geojson_data = square_net_4326.__geo_interface__

# DataFrame для Choropleth без geometry
data_for_choropleth = square_net_4326[['id', 'n']].copy()

# Тепловая карта (Choropleth)
folium.Choropleth(
    geo_data=geojson_data,
    data=data_for_choropleth,
    columns=['id', 'n'],
    key_on='feature.properties.id',
    fill_color='RdPu',
    fill_opacity=0.6,
    nan_fill_opacity=0,
    line_color="#0000",
    legend_name="Количество ОКН",
    name='Плотность ОКН'
).add_to(m)

# Граница города (линией)
area_boundary = area.copy()
area_boundary['geometry'] = area_boundary.geometry.boundary
area_4326 = area_boundary.to_crs('EPSG:4326')

# Преобразование datetime в строки в границе
for col in area_4326.columns:
    if pd.api.types.is_datetime64_any_dtype(area_4326[col]):
        area_4326[col] = area_4326[col].astype(str)

folium.GeoJson(
    area_4326,
    name="Граница Ессентуков",
    style_function=lambda feature: {"color": "gray", "weight": 1}
).add_to(m)

# Объекты ОКН (точки)
popup_fields = ['name']
if 'Дата создания' in okn_for_pts.columns:
    popup_fields.append('Дата создания')
elif 'start_date' in okn_for_pts.columns:
    popup_fields.append('start_date')

okn_for_pts_4326 = okn_for_pts.to_crs('EPSG:4326')

# Переводим datetime в строки для точек
for col in okn_for_pts_4326.columns:
    if pd.api.types.is_datetime64_any_dtype(okn_for_pts_4326[col]):
        okn_for_pts_4326[col] = okn_for_pts_4326[col].astype(str)

marker_colors = {0: "orange", 1: "blue"}

folium.GeoJson(
    okn_for_pts_4326,
    name="Памятники ОКН",
    tooltip=folium.GeoJsonTooltip(fields=['name']),
    popup=folium.GeoJsonPopup(fields=popup_fields),
    style_function=lambda feature: {
        'fillColor': marker_colors.get(feature['properties'].get('tourism'), 'gray'),
        'color': marker_colors.get(feature['properties'].get('tourism'), 'gray'),
        'weight': 2,
        'fillOpacity': 0.6
    },
    zoom_on_click=True
).add_to(m)

# Поиск по ОКН
searchokn = folium.GeoJson(okn_for_pts_4326, name="Поиск ОКН", show=False)
Search(
    layer=searchokn,
    geom_type="Point",
    placeholder="Поиск объектов ОКН",
    collapsed=False,
    search_label="name"
).add_to(m)

# Виджеты
folium.LayerControl().add_to(m)
MousePosition().add_to(m)
Fullscreen(position="bottomright").add_to(m)
MiniMap().add_to(m)

# Стилизация всплывающих окон
m.get_root().html.add_child(folium.Element(
    '<style>.leaflet-popup-content-wrapper { font-family: "Lato", sans-serif; }</style>'
))

# Отображение карты
m
